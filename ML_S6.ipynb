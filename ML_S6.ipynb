{
  "nbformat": 4,
  "nbformat_minor": 0,
  "metadata": {
    "colab": {
      "provenance": [],
      "authorship_tag": "ABX9TyPEmi97TZ4b5+4zEEFPcXgs",
      "include_colab_link": true
    },
    "kernelspec": {
      "name": "python3",
      "display_name": "Python 3"
    },
    "language_info": {
      "name": "python"
    }
  },
  "cells": [
    {
      "cell_type": "markdown",
      "metadata": {
        "id": "view-in-github",
        "colab_type": "text"
      },
      "source": [
        "<a href=\"https://colab.research.google.com/github/danielaguirrec/CalculadoraResistencia/blob/master/ML_S6.ipynb\" target=\"_parent\"><img src=\"https://colab.research.google.com/assets/colab-badge.svg\" alt=\"Open In Colab\"/></a>"
      ]
    },
    {
      "cell_type": "code",
      "execution_count": 2,
      "metadata": {
        "id": "w62A4UJipMVj"
      },
      "outputs": [],
      "source": []
    },
    {
      "cell_type": "markdown",
      "source": [
        "## APRENDIZAJE NO SUPERVISADO\n",
        "### Daniel Alejandro Aguirre Ceballos\n",
        "### ML_ACTIVIDAD_S6\n",
        "#### ING. JUAN CARLOS VALENCIA\n",
        "#### 2024 - 10 -21\n",
        "\n",
        "\n"
      ],
      "metadata": {
        "id": "XsDEYwYQpSFF"
      }
    },
    {
      "cell_type": "code",
      "source": [],
      "metadata": {
        "id": "FfmUrwfDDlB0"
      },
      "execution_count": 2,
      "outputs": []
    },
    {
      "cell_type": "markdown",
      "source": [
        "# PARTE I"
      ],
      "metadata": {
        "id": "WWHhOBaJDnEa"
      }
    },
    {
      "cell_type": "markdown",
      "source": [
        "##  ● Seleccione el dataset para clustering.\n",
        "Se utiliza el dataset almacenado en la variable url1\n",
        "\n",
        "\n"
      ],
      "metadata": {
        "id": "_8IUIDuQqcjw"
      }
    },
    {
      "cell_type": "markdown",
      "source": [
        "##   ● Realice la carga de datos desde Python (Google Colab) o R-studio.\n",
        "Utilizamos Colab\n",
        "\n",
        "\n",
        "Carga de datos:\n",
        " Inicialmente se cargaran 2 dataframes desde:\n",
        "\n",
        " url1 =\"https://archive.ics.uci.edu/ml/machine-learning-databases/adult/adult.data\"\n"
      ],
      "metadata": {
        "id": "dqdpqWauGHob"
      }
    },
    {
      "cell_type": "markdown",
      "source": [],
      "metadata": {
        "id": "9KMF57OYGCKB"
      }
    },
    {
      "cell_type": "code",
      "source": [
        "#importo las libreria vistas en clase y les asigno un acronimo/alias\n",
        "import pandas as pd\n",
        "import matplotlib.pyplot as plt\n",
        "import seaborn as sb\n",
        "from sklearn.preprocessing import StandardScaler, LabelEncoder\n",
        "from sklearn.cluster import KMeans, DBSCAN, AgglomerativeClustering\n",
        "from sklearn.metrics import silhouette_score\n",
        "import pandas as pd\n",
        "from sklearn.model_selection import train_test_split\n",
        "from sklearn.ensemble import RandomForestClassifier\n",
        "from sklearn.metrics import classification_report, accuracy_score, confusion_matrix\n",
        "from sklearn.preprocessing import MinMaxScaler, LabelEncoder\n",
        "from keras.models import Sequential\n",
        "from keras.layers import Dense\n",
        "import matplotlib.pyplot as plt\n",
        "import seaborn as sns\n",
        "import numpy as np\n",
        "\n",
        "# Creo una lista que contiene el nombre de las columnas de la base de datos\n",
        "COLUMNS1 = [\"age\",\"workclass\",\"fnlwgt\",\"education\",\"education_num\",\"marital\",\"occupation\",\n",
        "           \"relationship\",\"race\",\"sex\",\"capital_gain\",\"capital_loss\",\"hours_week\",\"native_country\",\"label\"]\n",
        "\n",
        "#copia el URL en una variable, por buenas practicas\n",
        "url1 =\"https://archive.ics.uci.edu/ml/machine-learning-databases/adult/adult.data\"\n",
        "path =\"/content/breast-cancer.csv\"\n",
        "#Leo la base de datos desde la url\n",
        "#creo un try except por si falla la lectura de la base de datos, no genere un error el programa\n",
        "try:\n",
        "#Leo la base de datos desde la url\n",
        "    df1 = pd.read_csv(url1,names=COLUMNS1)\n",
        "    df2 = pd.read_csv(path)\n",
        "\n",
        "\n",
        "except:\n",
        "    print(\"No se encontro el URL\")"
      ],
      "metadata": {
        "id": "gsrbHpFhqsp-"
      },
      "execution_count": 12,
      "outputs": []
    },
    {
      "cell_type": "code",
      "source": [],
      "metadata": {
        "id": "FrOfDCSBF_sm"
      },
      "execution_count": 3,
      "outputs": []
    },
    {
      "cell_type": "markdown",
      "source": [
        "## ● Realice el entrenamiento del modelo seleccionado (vea textos sugeridos en taller). K-means\n",
        "\n"
      ],
      "metadata": {
        "id": "AlPGBEdnA7-6"
      }
    },
    {
      "cell_type": "code",
      "source": [
        "import matplotlib.pyplot as plt\n",
        "from sklearn.cluster import KMeans\n",
        "\n",
        "# Configuro para que las plos se grafiquen un lado al otro\n",
        "fig, axs = plt.subplots(1, 1, figsize=(14, 5))  # 1 fila, 1 columna\n",
        "\n",
        "# Ajustar K-Means para df1\n",
        "kmeans_per_k1 = [KMeans(n_clusters=k, random_state=1995).fit(df1) for k in range(1, 10)]\n",
        "inertias1 = [model.inertia_ for model in kmeans_per_k1]\n",
        "\n",
        "# Graficar la inercia para df1\n",
        "axs.plot(range(1, 10), inertias1, \"bo-\")\n",
        "axs.set_xlabel(\"$k's$\", fontsize=14)\n",
        "axs.set_ylabel(\"Inertia\", fontsize=14)\n",
        "axs.set_title(\"Inercia para df1\", fontsize=16)\n",
        "\n",
        "# Anotación del \"codo\" para df1\n",
        "axs.annotate('Elbow',\n",
        "             xy=(4, inertias1[3]),\n",
        "             xytext=(0.55, 0.55),\n",
        "             textcoords='figure fraction',\n",
        "             fontsize=16,\n",
        "             arrowprops=dict(facecolor='black', shrink=0.1)\n",
        "            )\n",
        "\n",
        "plt.tight_layout()\n",
        "plt.show()\n"
      ],
      "metadata": {
        "colab": {
          "base_uri": "https://localhost:8080/",
          "height": 766
        },
        "id": "nKvoDeOVJheM",
        "outputId": "cb3b8d81-0304-4931-b3cf-131dce1a04f7"
      },
      "execution_count": 6,
      "outputs": [
        {
          "output_type": "error",
          "ename": "NameError",
          "evalue": "name 'df1' is not defined",
          "traceback": [
            "\u001b[0;31m---------------------------------------------------------------------------\u001b[0m",
            "\u001b[0;31mNameError\u001b[0m                                 Traceback (most recent call last)",
            "\u001b[0;32m<ipython-input-6-be414eef6046>\u001b[0m in \u001b[0;36m<cell line: 8>\u001b[0;34m()\u001b[0m\n\u001b[1;32m      6\u001b[0m \u001b[0;34m\u001b[0m\u001b[0m\n\u001b[1;32m      7\u001b[0m \u001b[0;31m# Ajustar K-Means para df1\u001b[0m\u001b[0;34m\u001b[0m\u001b[0;34m\u001b[0m\u001b[0m\n\u001b[0;32m----> 8\u001b[0;31m \u001b[0mkmeans_per_k1\u001b[0m \u001b[0;34m=\u001b[0m \u001b[0;34m[\u001b[0m\u001b[0mKMeans\u001b[0m\u001b[0;34m(\u001b[0m\u001b[0mn_clusters\u001b[0m\u001b[0;34m=\u001b[0m\u001b[0mk\u001b[0m\u001b[0;34m,\u001b[0m \u001b[0mrandom_state\u001b[0m\u001b[0;34m=\u001b[0m\u001b[0;36m1995\u001b[0m\u001b[0;34m)\u001b[0m\u001b[0;34m.\u001b[0m\u001b[0mfit\u001b[0m\u001b[0;34m(\u001b[0m\u001b[0mdf1\u001b[0m\u001b[0;34m)\u001b[0m \u001b[0;32mfor\u001b[0m \u001b[0mk\u001b[0m \u001b[0;32min\u001b[0m \u001b[0mrange\u001b[0m\u001b[0;34m(\u001b[0m\u001b[0;36m1\u001b[0m\u001b[0;34m,\u001b[0m \u001b[0;36m10\u001b[0m\u001b[0;34m)\u001b[0m\u001b[0;34m]\u001b[0m\u001b[0;34m\u001b[0m\u001b[0;34m\u001b[0m\u001b[0m\n\u001b[0m\u001b[1;32m      9\u001b[0m \u001b[0minertias1\u001b[0m \u001b[0;34m=\u001b[0m \u001b[0;34m[\u001b[0m\u001b[0mmodel\u001b[0m\u001b[0;34m.\u001b[0m\u001b[0minertia_\u001b[0m \u001b[0;32mfor\u001b[0m \u001b[0mmodel\u001b[0m \u001b[0;32min\u001b[0m \u001b[0mkmeans_per_k1\u001b[0m\u001b[0;34m]\u001b[0m\u001b[0;34m\u001b[0m\u001b[0;34m\u001b[0m\u001b[0m\n\u001b[1;32m     10\u001b[0m \u001b[0;34m\u001b[0m\u001b[0m\n",
            "\u001b[0;32m<ipython-input-6-be414eef6046>\u001b[0m in \u001b[0;36m<listcomp>\u001b[0;34m(.0)\u001b[0m\n\u001b[1;32m      6\u001b[0m \u001b[0;34m\u001b[0m\u001b[0m\n\u001b[1;32m      7\u001b[0m \u001b[0;31m# Ajustar K-Means para df1\u001b[0m\u001b[0;34m\u001b[0m\u001b[0;34m\u001b[0m\u001b[0m\n\u001b[0;32m----> 8\u001b[0;31m \u001b[0mkmeans_per_k1\u001b[0m \u001b[0;34m=\u001b[0m \u001b[0;34m[\u001b[0m\u001b[0mKMeans\u001b[0m\u001b[0;34m(\u001b[0m\u001b[0mn_clusters\u001b[0m\u001b[0;34m=\u001b[0m\u001b[0mk\u001b[0m\u001b[0;34m,\u001b[0m \u001b[0mrandom_state\u001b[0m\u001b[0;34m=\u001b[0m\u001b[0;36m1995\u001b[0m\u001b[0;34m)\u001b[0m\u001b[0;34m.\u001b[0m\u001b[0mfit\u001b[0m\u001b[0;34m(\u001b[0m\u001b[0mdf1\u001b[0m\u001b[0;34m)\u001b[0m \u001b[0;32mfor\u001b[0m \u001b[0mk\u001b[0m \u001b[0;32min\u001b[0m \u001b[0mrange\u001b[0m\u001b[0;34m(\u001b[0m\u001b[0;36m1\u001b[0m\u001b[0;34m,\u001b[0m \u001b[0;36m10\u001b[0m\u001b[0;34m)\u001b[0m\u001b[0;34m]\u001b[0m\u001b[0;34m\u001b[0m\u001b[0;34m\u001b[0m\u001b[0m\n\u001b[0m\u001b[1;32m      9\u001b[0m \u001b[0minertias1\u001b[0m \u001b[0;34m=\u001b[0m \u001b[0;34m[\u001b[0m\u001b[0mmodel\u001b[0m\u001b[0;34m.\u001b[0m\u001b[0minertia_\u001b[0m \u001b[0;32mfor\u001b[0m \u001b[0mmodel\u001b[0m \u001b[0;32min\u001b[0m \u001b[0mkmeans_per_k1\u001b[0m\u001b[0;34m]\u001b[0m\u001b[0;34m\u001b[0m\u001b[0;34m\u001b[0m\u001b[0m\n\u001b[1;32m     10\u001b[0m \u001b[0;34m\u001b[0m\u001b[0m\n",
            "\u001b[0;31mNameError\u001b[0m: name 'df1' is not defined"
          ]
        },
        {
          "output_type": "display_data",
          "data": {
            "text/plain": [
              "<Figure size 1400x500 with 1 Axes>"
            ],
            "image/png": "[encoded data removed]"
          },
          "metadata": {}
        }
      ]
    },
    {
      "cell_type": "code",
      "source": [
        "#modificar a df ya que porser numpy cambiaron de tipo\n",
        "from numpy import unique,where\n",
        "from matplotlib import pyplot\n",
        "\n",
        "# Modelo KMeans\n",
        "num_clusters = 4\n",
        "# Aplicar K-Means con los datos combinados\n",
        "kmeans1 = KMeans(n_clusters=num_clusters, random_state=1995, init=\"random\", n_init=10)\n",
        "kmeans1_model =kmeans1.fit(df1)\n",
        "kmeans1_result= kmeans1_model.predict(df1)\n",
        "kmeans1_clusters = unique(kmeans1_result)\n",
        "# Asignar los clústeres al DataFrame 1\n",
        "\n",
        "\n",
        "for kmeans_cluster in kmeans1_clusters:\n",
        "  index = where(kmeans1_result == kmeans_cluster)\n",
        "  pyplot.scatter(df1[index,0],df1[index,1])\n",
        "  print(index)\n",
        "pyplot.tight_layout()\n",
        "pyplot.show()\n",
        "df1_new = pd.DataFrame(df1, columns=COLUMNS1)\n",
        "df1_new['cluster'] = kmeans1.labels_\n",
        "\n",
        "\n"
      ],
      "metadata": {
        "id": "j67EAFZtvktW"
      },
      "execution_count": null,
      "outputs": []
    },
    {
      "cell_type": "code",
      "source": [],
      "metadata": {
        "id": "5enMExAYBuj9"
      },
      "execution_count": null,
      "outputs": []
    },
    {
      "cell_type": "markdown",
      "source": [
        "## ● Realice la prueba del modelo seleccionado.\n",
        "Realizamos PCA para analizar como se comporta el clustering"
      ],
      "metadata": {
        "id": "nBAIZyhbBvK-"
      }
    },
    {
      "cell_type": "code",
      "source": [
        "# Reducir a 2 dimensiones usando PCA\n",
        "from sklearn.decomposition import PCA\n",
        "\n",
        "pca = PCA(n_components=2)\n",
        "df1_pca = pca.fit_transform(df1_new)  # X es la matriz con datos combinados (texto vectorizado + numéricos)\n",
        "\n",
        "# Graficar los clusters\n",
        "plt.figure(figsize=(8, 6))\n",
        "plt.scatter(df1_pca[:, 0], df1_pca[:, 1], c=kmeans1.labels_, cmap='viridis')\n",
        "plt.title('Clusters visualizados con PCA')\n",
        "plt.xlabel('Componente principal 1')\n",
        "plt.ylabel('Componente principal 2')\n",
        "plt.colorbar(label='Cluster')\n",
        "plt.show()"
      ],
      "metadata": {
        "id": "bYE42KOH3xo8"
      },
      "execution_count": null,
      "outputs": []
    },
    {
      "cell_type": "code",
      "source": [],
      "metadata": {
        "id": "Ken6dfMbxDCd"
      },
      "execution_count": null,
      "outputs": []
    },
    {
      "cell_type": "markdown",
      "source": [
        "## ● Comente los resultados obtenidos.\n",
        "\n",
        "\n",
        "*   Para utilizar los metodos de las librerías como sklearn entre otras, es neesario, adecuar los datos, de tal forma que estén en el formato y/o tipo necesario. Como por ejemplo, que todos los valors sean numericos\n",
        "\n",
        "*   Existen varios metodos de agrupación. Sin  embargo, cada metodo tiene sus diferentes caracteristicas, las cuales dependiendo del contexto o necesidad de agrupar por medio de diferentes metricas se usa uno u otro modelo.\n",
        "\n",
        "*   Es posible mejorar la interpretación visual de los clustering, realizando técnicas como PCA.\n",
        "\n",
        "\n",
        "\n"
      ],
      "metadata": {
        "id": "3VOfeJPmDQLT"
      }
    },
    {
      "cell_type": "markdown",
      "source": [
        "## ● Otros comentarios que parezcan adecuados.\n",
        "\n",
        "\n"
      ],
      "metadata": {
        "id": "YwLeUw-q_km6"
      }
    },
    {
      "cell_type": "markdown",
      "source": [
        "# PARTE II\n",
        "\n"
      ],
      "metadata": {
        "id": "eEW4Ja8aPBvH"
      }
    },
    {
      "cell_type": "code",
      "source": [],
      "metadata": {
        "id": "diCtL0GIbJ3n"
      },
      "execution_count": null,
      "outputs": []
    },
    {
      "cell_type": "markdown",
      "source": [
        "\n",
        "muestra como tumor o no tumor.\n",
        "\n",
        "### STEP 1\n",
        "* Importar el conjunto de datos\n",
        "* Analizar el conjunto de datos\n",
        "* Eliminar valores nulos\n",
        "* Transformar variables\n",
        "* Normalizar datos"
      ],
      "metadata": {
        "id": "riRCA1_kbKqe"
      }
    },
    {
      "cell_type": "code",
      "source": [
        "#copia el URL en una variable, por buenas practicas\n",
        "from sklearn.preprocessing import MinMaxScaler, LabelEncoder\n",
        "\n",
        "path =\"/content/breast-cancer.csv\"\n",
        "#Leo la base de datos desde la url\n",
        "#creo un try except por si falla la lectura de la base de datos, no genere un error el programa\n",
        "try:\n",
        "#Leo la base de datos desde la url\n",
        "    df2 = pd.read_csv(path)\n",
        "except:\n",
        "    print(\"No se encontro el URL\")\n",
        "\n",
        "# Genero los tipos de datos del data set y los estaditicos decriptivos del DF\n",
        "# DF2\n",
        "print(df2.dtypes)\n",
        "print(df2.describe())\n",
        "\n",
        "print(\"Nulos:\")\n",
        "print(df2.isnull().sum())\n",
        "print(\"No hay nulos\")\n",
        "\n",
        "# 1. Eliminar la columna 'id' si no es necesaria\n",
        "df2 = df2.drop(columns=['id'])\n",
        "\n",
        "# 2. Codificamos la variable objetivo\n",
        "#   B = 0\n",
        "#   M = 1\n",
        "label_encoder = LabelEncoder()\n",
        "df2['diagnosis'] = label_encoder.fit_transform(df2['diagnosis'])\n",
        "\n",
        "# 3. Normalizo los valores de las columnas numericas\n",
        "scaler = MinMaxScaler()\n",
        "numeric_columns = df2.select_dtypes(include=['float64']).columns\n",
        "df2[numeric_columns] = scaler.fit_transform(df2[numeric_columns])\n",
        "\n",
        "# 4. Mostrar el DataFrame preparado\n",
        "print(df2.head())\n"
      ],
      "metadata": {
        "colab": {
          "base_uri": "https://localhost:8080/"
        },
        "id": "wfkRXwggWcKw",
        "outputId": "734583e9-dfc3-40fd-980e-8b6c871f9b00"
      },
      "execution_count": 13,
      "outputs": [
        {
          "output_type": "stream",
          "name": "stdout",
          "text": [
            "id                           int64\n",
            "diagnosis                   object\n",
            "radius_mean                float64\n",
            "texture_mean               float64\n",
            "perimeter_mean             float64\n",
            "area_mean                  float64\n",
            "smoothness_mean            float64\n",
            "compactness_mean           float64\n",
            "concavity_mean             float64\n",
            "concave points_mean        float64\n",
            "symmetry_mean              float64\n",
            "fractal_dimension_mean     float64\n",
            "radius_se                  float64\n",
            "texture_se                 float64\n",
            "perimeter_se               float64\n",
            "area_se                    float64\n",
            "smoothness_se              float64\n",
            "compactness_se             float64\n",
            "concavity_se               float64\n",
            "concave points_se          float64\n",
            "symmetry_se                float64\n",
            "fractal_dimension_se       float64\n",
            "radius_worst               float64\n",
            "texture_worst              float64\n",
            "perimeter_worst            float64\n",
            "area_worst                 float64\n",
            "smoothness_worst           float64\n",
            "compactness_worst          float64\n",
            "concavity_worst            float64\n",
            "concave points_worst       float64\n",
            "symmetry_worst             float64\n",
            "fractal_dimension_worst    float64\n",
            "dtype: object\n",
            "                 id  radius_mean  texture_mean  perimeter_mean    area_mean  \\\n",
            "count  5.690000e+02   569.000000    569.000000      569.000000   569.000000   \n",
            "mean   3.037183e+07    14.127292     19.289649       91.969033   654.889104   \n",
            "std    1.250206e+08     3.524049      4.301036       24.298981   351.914129   \n",
            "min    8.670000e+03     6.981000      9.710000       43.790000   143.500000   \n",
            "25%    8.692180e+05    11.700000     16.170000       75.170000   420.300000   \n",
            "50%    9.060240e+05    13.370000     18.840000       86.240000   551.100000   \n",
            "75%    8.813129e+06    15.780000     21.800000      104.100000   782.700000   \n",
            "max    9.113205e+08    28.110000     39.280000      188.500000  2501.000000   \n",
            "\n",
            "       smoothness_mean  compactness_mean  concavity_mean  concave points_mean  \\\n",
            "count       569.000000        569.000000      569.000000           569.000000   \n",
            "mean          0.096360          0.104341        0.088799             0.048919   \n",
            "std           0.014064          0.052813        0.079720             0.038803   \n",
            "min           0.052630          0.019380        0.000000             0.000000   \n",
            "25%           0.086370          0.064920        0.029560             0.020310   \n",
            "50%           0.095870          0.092630        0.061540             0.033500   \n",
            "75%           0.105300          0.130400        0.130700             0.074000   \n",
            "max           0.163400          0.345400        0.426800             0.201200   \n",
            "\n",
            "       symmetry_mean  ...  radius_worst  texture_worst  perimeter_worst  \\\n",
            "count     569.000000  ...    569.000000     569.000000       569.000000   \n",
            "mean        0.181162  ...     16.269190      25.677223       107.261213   \n",
            "std         0.027414  ...      4.833242       6.146258        33.602542   \n",
            "min         0.106000  ...      7.930000      12.020000        50.410000   \n",
            "25%         0.161900  ...     13.010000      21.080000        84.110000   \n",
            "50%         0.179200  ...     14.970000      25.410000        97.660000   \n",
            "75%         0.195700  ...     18.790000      29.720000       125.400000   \n",
            "max         0.304000  ...     36.040000      49.540000       251.200000   \n",
            "\n",
            "        area_worst  smoothness_worst  compactness_worst  concavity_worst  \\\n",
            "count   569.000000        569.000000         569.000000       569.000000   \n",
            "mean    880.583128          0.132369           0.254265         0.272188   \n",
            "std     569.356993          0.022832           0.157336         0.208624   \n",
            "min     185.200000          0.071170           0.027290         0.000000   \n",
            "25%     515.300000          0.116600           0.147200         0.114500   \n",
            "50%     686.500000          0.131300           0.211900         0.226700   \n",
            "75%    1084.000000          0.146000           0.339100         0.382900   \n",
            "max    4254.000000          0.222600           1.058000         1.252000   \n",
            "\n",
            "       concave points_worst  symmetry_worst  fractal_dimension_worst  \n",
            "count            569.000000      569.000000               569.000000  \n",
            "mean               0.114606        0.290076                 0.083946  \n",
            "std                0.065732        0.061867                 0.018061  \n",
            "min                0.000000        0.156500                 0.055040  \n",
            "25%                0.064930        0.250400                 0.071460  \n",
            "50%                0.099930        0.282200                 0.080040  \n",
            "75%                0.161400        0.317900                 0.092080  \n",
            "max                0.291000        0.663800                 0.207500  \n",
            "\n",
            "[8 rows x 31 columns]\n",
            "Nulos:\n",
            "id                         0\n",
            "diagnosis                  0\n",
            "radius_mean                0\n",
            "texture_mean               0\n",
            "perimeter_mean             0\n",
            "area_mean                  0\n",
            "smoothness_mean            0\n",
            "compactness_mean           0\n",
            "concavity_mean             0\n",
            "concave points_mean        0\n",
            "symmetry_mean              0\n",
            "fractal_dimension_mean     0\n",
            "radius_se                  0\n",
            "texture_se                 0\n",
            "perimeter_se               0\n",
            "area_se                    0\n",
            "smoothness_se              0\n",
            "compactness_se             0\n",
            "concavity_se               0\n",
            "concave points_se          0\n",
            "symmetry_se                0\n",
            "fractal_dimension_se       0\n",
            "radius_worst               0\n",
            "texture_worst              0\n",
            "perimeter_worst            0\n",
            "area_worst                 0\n",
            "smoothness_worst           0\n",
            "compactness_worst          0\n",
            "concavity_worst            0\n",
            "concave points_worst       0\n",
            "symmetry_worst             0\n",
            "fractal_dimension_worst    0\n",
            "dtype: int64\n",
            "No hay nulos\n",
            "   diagnosis  radius_mean  texture_mean  perimeter_mean  area_mean  \\\n",
            "0          1     0.521037      0.022658        0.545989   0.363733   \n",
            "1          1     0.643144      0.272574        0.615783   0.501591   \n",
            "2          1     0.601496      0.390260        0.595743   0.449417   \n",
            "3          1     0.210090      0.360839        0.233501   0.102906   \n",
            "4          1     0.629893      0.156578        0.630986   0.489290   \n",
            "\n",
            "   smoothness_mean  compactness_mean  concavity_mean  concave points_mean  \\\n",
            "0         0.593753          0.792037        0.703140             0.731113   \n",
            "1         0.289880          0.181768        0.203608             0.348757   \n",
            "2         0.514309          0.431017        0.462512             0.635686   \n",
            "3         0.811321          0.811361        0.565604             0.522863   \n",
            "4         0.430351          0.347893        0.463918             0.518390   \n",
            "\n",
            "   symmetry_mean  ...  radius_worst  texture_worst  perimeter_worst  \\\n",
            "0       0.686364  ...      0.620776       0.141525         0.668310   \n",
            "1       0.379798  ...      0.606901       0.303571         0.539818   \n",
            "2       0.509596  ...      0.556386       0.360075         0.508442   \n",
            "3       0.776263  ...      0.248310       0.385928         0.241347   \n",
            "4       0.378283  ...      0.519744       0.123934         0.506948   \n",
            "\n",
            "   area_worst  smoothness_worst  compactness_worst  concavity_worst  \\\n",
            "0    0.450698          0.601136           0.619292         0.568610   \n",
            "1    0.435214          0.347553           0.154563         0.192971   \n",
            "2    0.374508          0.483590           0.385375         0.359744   \n",
            "3    0.094008          0.915472           0.814012         0.548642   \n",
            "4    0.341575          0.437364           0.172415         0.319489   \n",
            "\n",
            "   concave points_worst  symmetry_worst  fractal_dimension_worst  \n",
            "0              0.912027        0.598462                 0.418864  \n",
            "1              0.639175        0.233590                 0.222878  \n",
            "2              0.835052        0.403706                 0.213433  \n",
            "3              0.884880        1.000000                 0.773711  \n",
            "4              0.558419        0.157500                 0.142595  \n",
            "\n",
            "[5 rows x 31 columns]\n"
          ]
        }
      ]
    },
    {
      "cell_type": "code",
      "source": [],
      "metadata": {
        "id": "n0IqunqIkROG"
      },
      "execution_count": null,
      "outputs": []
    },
    {
      "cell_type": "markdown",
      "source": [
        "## STEP 2\n",
        "Definir arquitectura de modelo.\n",
        "\n",
        "Para este paso utilizaremos 2 modelos de aprendizaje supervisado\n",
        "\n",
        "2.0 Particionar el set de entreno y prueba\n",
        "\n",
        "2.1 Random Forest\n",
        "\n",
        "2.2 Redes neuronales\n",
        "\n"
      ],
      "metadata": {
        "id": "PbgRvk9YkSAn"
      }
    },
    {
      "cell_type": "markdown",
      "source": [
        "### 2.0 Particionar el set de entreno y prueba"
      ],
      "metadata": {
        "id": "f3fy_eH312ti"
      }
    },
    {
      "cell_type": "code",
      "source": [
        "# Cargar los datos (reemplaza 'tu_archivo.csv' con el nombre de tu archivo)\n",
        "# df2 = pd.read_csv('tu_archivo.csv')\n",
        "\n",
        "# Supongamos que df2 ya está cargado y preparado.\n",
        "# Dividir en características (X) y etiqueta (y)\n",
        "X = df2.drop(columns=['diagnosis'])\n",
        "y = df2['diagnosis']\n",
        "\n",
        "# Dividir los datos en conjunto de entrenamiento 80% y prueba 20% con una semilla de 42\n",
        "X_train, X_test, y_train, y_test = train_test_split(X, y, test_size=0.2, random_state=42)"
      ],
      "metadata": {
        "id": "CWa70h-T1pCW"
      },
      "execution_count": 14,
      "outputs": []
    },
    {
      "cell_type": "markdown",
      "source": [
        "### 2.1 Random Forest"
      ],
      "metadata": {
        "id": "ilEfyHw02Ip3"
      }
    },
    {
      "cell_type": "code",
      "source": [
        "\n",
        "\n",
        "\n",
        "# 2.1 Modelo random forest\n",
        "random_Forest_modelo = RandomForestClassifier(random_state=42)\n",
        "random_Forest_modelo.fit(X_train, y_train)\n",
        "rf_predictions = random_Forest_modelo.predict(X_test)\n",
        "print(\"Accuracy:\", accuracy_score(y_test, rf_predictions))\n",
        "print(classification_report(y_test, rf_predictions))\n",
        "\n",
        "# Matriz de confusión para Random Forest\n",
        "confusion_rf = confusion_matrix(y_test, rf_predictions)\n",
        "plt.figure(figsize=(6, 4))\n",
        "sns.heatmap(confusion_rf, annot=True, fmt='d', cmap='Blues', xticklabels=['B', 'M'], yticklabels=['B', 'M'])\n",
        "plt.title(\"Matriz de confunsión para modelo Random Forest\")\n",
        "plt.xlabel(\"Predicho\")\n",
        "plt.ylabel(\"Actual\")\n",
        "plt.show()\n",
        "\n",
        "# Análisis de errores\n",
        "rf_errors = np.where(rf_predictions != y_test)[0]\n",
        "print(f\"\\nRandom Forest misclassifications: {len(rf_errors)}\")\n",
        "print(\"\\nRandom Forest misclassifications indices:\", rf_errors)\n",
        "\n",
        "# Importancia de las variables en Random Forest\n",
        "importances = random_Forest_modelo.feature_importances_\n",
        "indices = np.argsort(importances)[::-1]\n",
        "\n",
        "# Mostrar variables más importantes\n",
        "print(\"Variables mas importantes en el Random Forest:\")\n",
        "for f in range(30):\n",
        "    print(f\"{f + 1}. {X.columns[indices[f]]} - {importances[indices[f]]:.2f}\")\n"
      ],
      "metadata": {
        "colab": {
          "base_uri": "https://localhost:8080/",
          "height": 1000
        },
        "id": "cS4IZIVQtVca",
        "outputId": "4572bbf0-443a-436b-8a14-98d20a2655bc"
      },
      "execution_count": 15,
      "outputs": [
        {
          "output_type": "stream",
          "name": "stdout",
          "text": [
            "Accuracy: 0.9649122807017544\n",
            "              precision    recall  f1-score   support\n",
            "\n",
            "           0       0.96      0.99      0.97        71\n",
            "           1       0.98      0.93      0.95        43\n",
            "\n",
            "    accuracy                           0.96       114\n",
            "   macro avg       0.97      0.96      0.96       114\n",
            "weighted avg       0.97      0.96      0.96       114\n",
            "\n"
          ]
        },
        {
          "output_type": "display_data",
          "data": {
            "text/plain": [
              "<Figure size 600x400 with 2 Axes>"
            ],
            "image/png": "[encoded data removed]"
          },
          "metadata": {}
        },
        {
          "output_type": "stream",
          "name": "stdout",
          "text": [
            "\n",
            "Random Forest misclassifications: 4\n",
            "\n",
            "Random Forest misclassifications indices: [ 8 20 77 82]\n",
            "Variables mas importantes en el Random Forest:\n",
            "1. area_worst - 0.15\n",
            "2. concave points_worst - 0.14\n",
            "3. concave points_mean - 0.11\n",
            "4. radius_worst - 0.08\n",
            "5. concavity_mean - 0.07\n",
            "6. perimeter_worst - 0.07\n",
            "7. perimeter_mean - 0.05\n",
            "8. radius_mean - 0.05\n",
            "9. area_mean - 0.05\n",
            "10. concavity_worst - 0.03\n",
            "11. area_se - 0.02\n",
            "12. texture_worst - 0.02\n",
            "13. compactness_worst - 0.02\n",
            "14. radius_se - 0.02\n",
            "15. compactness_mean - 0.01\n",
            "16. texture_mean - 0.01\n",
            "17. perimeter_se - 0.01\n",
            "18. smoothness_worst - 0.01\n",
            "19. symmetry_worst - 0.01\n",
            "20. concavity_se - 0.01\n",
            "21. smoothness_mean - 0.01\n",
            "22. fractal_dimension_se - 0.01\n",
            "23. compactness_se - 0.01\n",
            "24. fractal_dimension_worst - 0.01\n",
            "25. texture_se - 0.00\n",
            "26. smoothness_se - 0.00\n",
            "27. symmetry_se - 0.00\n",
            "28. fractal_dimension_mean - 0.00\n",
            "29. symmetry_mean - 0.00\n",
            "30. concave points_se - 0.00\n"
          ]
        }
      ]
    },
    {
      "cell_type": "markdown",
      "source": [
        "### 2.2 Redes Neuronales"
      ],
      "metadata": {
        "id": "EVn2iscw7Wom"
      }
    },
    {
      "cell_type": "code",
      "source": [
        "\n",
        "# Entrenar una red neuronal\n",
        "red_Neuronal_modelo = Sequential()\n",
        "red_Neuronal_modelo.add(Dense(64, activation='relu', input_shape=(X_train.shape[1],)))\n",
        "red_Neuronal_modelo.add(Dense(32, activation='relu'))\n",
        "red_Neuronal_modelo.add(Dense(1, activation='sigmoid'))  # Para clasificación binaria\n",
        "\n",
        "# Compilar el modelo\n",
        "red_Neuronal_modelo.compile(optimizer='adam', loss='binary_crossentropy', metrics=['accuracy'])\n",
        "\n",
        "# Ajustar el modelo a los datos de entrenamiento\n",
        "red_Neuronal_modelo.fit(X_train, y_train, epochs=50, batch_size=10, verbose=1)\n",
        "\n",
        "# Hacer predicciones y evaluar la red neuronal\n",
        "red_neuronal_prediccion = (red_Neuronal_modelo.predict(X_test) > 0.5).astype(\"int32\")\n",
        "print(\"\\nNeural Network\")\n",
        "print(\"Accuracy:\", accuracy_score(y_test, red_neuronal_prediccion))\n",
        "print(classification_report(y_test, red_neuronal_prediccion))\n",
        "\n",
        "# Matriz de confusión para la red neuronal\n",
        "confusion_nn = confusion_matrix(y_test, red_neuronal_prediccion)\n",
        "plt.figure(figsize=(6, 4))\n",
        "sns.heatmap(confusion_nn, annot=True, fmt='d', cmap='Blues', xticklabels=['B', 'M'], yticklabels=['B', 'M'])\n",
        "plt.title(\"Matriz de confunsión para modelo Red Neuronal\")\n",
        "plt.xlabel(\"Predicho\")\n",
        "plt.ylabel(\"Actual\")\n",
        "plt.show()\n",
        "\n",
        "#analisis errores\n",
        "nn_errors = np.where(red_neuronal_prediccion.flatten() != y_test)[0]\n",
        "\n",
        "print(\"Neural Network misclassifications indices:\", nn_errors)\n",
        "print(f\"Neural Network misclassifications: {len(nn_errors)}\")\n",
        "\n"
      ],
      "metadata": {
        "colab": {
          "base_uri": "https://localhost:8080/",
          "height": 1000
        },
        "id": "mMepuiC6zuRZ",
        "outputId": "40982c6e-e10b-4173-f1e3-53cffff87cb3"
      },
      "execution_count": 16,
      "outputs": [
        {
          "output_type": "stream",
          "name": "stdout",
          "text": [
            "Epoch 1/50\n"
          ]
        },
        {
          "output_type": "stream",
          "name": "stderr",
          "text": [
            "/usr/local/lib/python3.10/dist-packages/keras/src/layers/core/dense.py:87: UserWarning: Do not pass an `input_shape`/`input_dim` argument to a layer. When using Sequential models, prefer using an `Input(shape)` object as the first layer in the model instead.\n",
            "  super().__init__(activity_regularizer=activity_regularizer, **kwargs)\n"
          ]
        },
        {
          "output_type": "stream",
          "name": "stdout",
          "text": [
            "\u001b[1m46/46\u001b[0m \u001b[32m━━━━━━━━━━━━━━━━━━━━\u001b[0m\u001b[37m\u001b[0m \u001b[1m1s\u001b[0m 2ms/step - accuracy: 0.6443 - loss: 0.6571\n",
            "Epoch 2/50\n",
            "\u001b[1m46/46\u001b[0m \u001b[32m━━━━━━━━━━━━━━━━━━━━\u001b[0m\u001b[37m\u001b[0m \u001b[1m0s\u001b[0m 1ms/step - accuracy: 0.8696 - loss: 0.5007\n",
            "Epoch 3/50\n",
            "\u001b[1m46/46\u001b[0m \u001b[32m━━━━━━━━━━━━━━━━━━━━\u001b[0m\u001b[37m\u001b[0m \u001b[1m0s\u001b[0m 2ms/step - accuracy: 0.9152 - loss: 0.3286\n",
            "Epoch 4/50\n",
            "\u001b[1m46/46\u001b[0m \u001b[32m━━━━━━━━━━━━━━━━━━━━\u001b[0m\u001b[37m\u001b[0m \u001b[1m0s\u001b[0m 2ms/step - accuracy: 0.9070 - loss: 0.2462\n",
            "Epoch 5/50\n",
            "\u001b[1m46/46\u001b[0m \u001b[32m━━━━━━━━━━━━━━━━━━━━\u001b[0m\u001b[37m\u001b[0m \u001b[1m0s\u001b[0m 2ms/step - accuracy: 0.9450 - loss: 0.1889\n",
            "Epoch 6/50\n",
            "\u001b[1m46/46\u001b[0m \u001b[32m━━━━━━━━━━━━━━━━━━━━\u001b[0m\u001b[37m\u001b[0m \u001b[1m0s\u001b[0m 2ms/step - accuracy: 0.9348 - loss: 0.1572\n",
            "Epoch 7/50\n",
            "\u001b[1m46/46\u001b[0m \u001b[32m━━━━━━━━━━━━━━━━━━━━\u001b[0m\u001b[37m\u001b[0m \u001b[1m0s\u001b[0m 2ms/step - accuracy: 0.9411 - loss: 0.1573\n",
            "Epoch 8/50\n",
            "\u001b[1m46/46\u001b[0m \u001b[32m━━━━━━━━━━━━━━━━━━━━\u001b[0m\u001b[37m\u001b[0m \u001b[1m0s\u001b[0m 3ms/step - accuracy: 0.9514 - loss: 0.1216\n",
            "Epoch 9/50\n",
            "\u001b[1m46/46\u001b[0m \u001b[32m━━━━━━━━━━━━━━━━━━━━\u001b[0m\u001b[37m\u001b[0m \u001b[1m0s\u001b[0m 2ms/step - accuracy: 0.9533 - loss: 0.1271\n",
            "Epoch 10/50\n",
            "\u001b[1m46/46\u001b[0m \u001b[32m━━━━━━━━━━━━━━━━━━━━\u001b[0m\u001b[37m\u001b[0m \u001b[1m0s\u001b[0m 2ms/step - accuracy: 0.9573 - loss: 0.1151\n",
            "Epoch 11/50\n",
            "\u001b[1m46/46\u001b[0m \u001b[32m━━━━━━━━━━━━━━━━━━━━\u001b[0m\u001b[37m\u001b[0m \u001b[1m0s\u001b[0m 2ms/step - accuracy: 0.9739 - loss: 0.0959\n",
            "Epoch 12/50\n",
            "\u001b[1m46/46\u001b[0m \u001b[32m━━━━━━━━━━━━━━━━━━━━\u001b[0m\u001b[37m\u001b[0m \u001b[1m0s\u001b[0m 2ms/step - accuracy: 0.9588 - loss: 0.0987\n",
            "Epoch 13/50\n",
            "\u001b[1m46/46\u001b[0m \u001b[32m━━━━━━━━━━━━━━━━━━━━\u001b[0m\u001b[37m\u001b[0m \u001b[1m0s\u001b[0m 2ms/step - accuracy: 0.9779 - loss: 0.0817\n",
            "Epoch 14/50\n",
            "\u001b[1m46/46\u001b[0m \u001b[32m━━━━━━━━━━━━━━━━━━━━\u001b[0m\u001b[37m\u001b[0m \u001b[1m0s\u001b[0m 2ms/step - accuracy: 0.9786 - loss: 0.0744\n",
            "Epoch 15/50\n",
            "\u001b[1m46/46\u001b[0m \u001b[32m━━━━━━━━━━━━━━━━━━━━\u001b[0m\u001b[37m\u001b[0m \u001b[1m0s\u001b[0m 3ms/step - accuracy: 0.9839 - loss: 0.0726\n",
            "Epoch 16/50\n",
            "\u001b[1m46/46\u001b[0m \u001b[32m━━━━━━━━━━━━━━━━━━━━\u001b[0m\u001b[37m\u001b[0m \u001b[1m0s\u001b[0m 2ms/step - accuracy: 0.9783 - loss: 0.0736\n",
            "Epoch 17/50\n",
            "\u001b[1m46/46\u001b[0m \u001b[32m━━━━━━━━━━━━━━━━━━━━\u001b[0m\u001b[37m\u001b[0m \u001b[1m0s\u001b[0m 3ms/step - accuracy: 0.9816 - loss: 0.0543\n",
            "Epoch 18/50\n",
            "\u001b[1m46/46\u001b[0m \u001b[32m━━━━━━━━━━━━━━━━━━━━\u001b[0m\u001b[37m\u001b[0m \u001b[1m0s\u001b[0m 3ms/step - accuracy: 0.9720 - loss: 0.0806\n",
            "Epoch 19/50\n",
            "\u001b[1m46/46\u001b[0m \u001b[32m━━━━━━━━━━━━━━━━━━━━\u001b[0m\u001b[37m\u001b[0m \u001b[1m0s\u001b[0m 3ms/step - accuracy: 0.9834 - loss: 0.0725\n",
            "Epoch 20/50\n",
            "\u001b[1m46/46\u001b[0m \u001b[32m━━━━━━━━━━━━━━━━━━━━\u001b[0m\u001b[37m\u001b[0m \u001b[1m0s\u001b[0m 2ms/step - accuracy: 0.9563 - loss: 0.0943\n",
            "Epoch 21/50\n",
            "\u001b[1m46/46\u001b[0m \u001b[32m━━━━━━━━━━━━━━━━━━━━\u001b[0m\u001b[37m\u001b[0m \u001b[1m0s\u001b[0m 2ms/step - accuracy: 0.9867 - loss: 0.0571\n",
            "Epoch 22/50\n",
            "\u001b[1m46/46\u001b[0m \u001b[32m━━━━━━━━━━━━━━━━━━━━\u001b[0m\u001b[37m\u001b[0m \u001b[1m0s\u001b[0m 1ms/step - accuracy: 0.9756 - loss: 0.0680\n",
            "Epoch 23/50\n",
            "\u001b[1m46/46\u001b[0m \u001b[32m━━━━━━━━━━━━━━━━━━━━\u001b[0m\u001b[37m\u001b[0m \u001b[1m0s\u001b[0m 2ms/step - accuracy: 0.9762 - loss: 0.0680\n",
            "Epoch 24/50\n",
            "\u001b[1m46/46\u001b[0m \u001b[32m━━━━━━━━━━━━━━━━━━━━\u001b[0m\u001b[37m\u001b[0m \u001b[1m0s\u001b[0m 2ms/step - accuracy: 0.9868 - loss: 0.0560\n",
            "Epoch 25/50\n",
            "\u001b[1m46/46\u001b[0m \u001b[32m━━━━━━━━━━━━━━━━━━━━\u001b[0m\u001b[37m\u001b[0m \u001b[1m0s\u001b[0m 2ms/step - accuracy: 0.9777 - loss: 0.0501\n",
            "Epoch 26/50\n",
            "\u001b[1m46/46\u001b[0m \u001b[32m━━━━━━━━━━━━━━━━━━━━\u001b[0m\u001b[37m\u001b[0m \u001b[1m0s\u001b[0m 2ms/step - accuracy: 0.9855 - loss: 0.0588\n",
            "Epoch 27/50\n",
            "\u001b[1m46/46\u001b[0m \u001b[32m━━━━━━━━━━━━━━━━━━━━\u001b[0m\u001b[37m\u001b[0m \u001b[1m0s\u001b[0m 2ms/step - accuracy: 0.9689 - loss: 0.0622\n",
            "Epoch 28/50\n",
            "\u001b[1m46/46\u001b[0m \u001b[32m━━━━━━━━━━━━━━━━━━━━\u001b[0m\u001b[37m\u001b[0m \u001b[1m0s\u001b[0m 1ms/step - accuracy: 0.9790 - loss: 0.0471\n",
            "Epoch 29/50\n",
            "\u001b[1m46/46\u001b[0m \u001b[32m━━━━━━━━━━━━━━━━━━━━\u001b[0m\u001b[37m\u001b[0m \u001b[1m0s\u001b[0m 2ms/step - accuracy: 0.9779 - loss: 0.0618\n",
            "Epoch 30/50\n",
            "\u001b[1m46/46\u001b[0m \u001b[32m━━━━━━━━━━━━━━━━━━━━\u001b[0m\u001b[37m\u001b[0m \u001b[1m0s\u001b[0m 2ms/step - accuracy: 0.9838 - loss: 0.0586\n",
            "Epoch 31/50\n",
            "\u001b[1m46/46\u001b[0m \u001b[32m━━━━━━━━━━━━━━━━━━━━\u001b[0m\u001b[37m\u001b[0m \u001b[1m0s\u001b[0m 2ms/step - accuracy: 0.9750 - loss: 0.0616\n",
            "Epoch 32/50\n",
            "\u001b[1m46/46\u001b[0m \u001b[32m━━━━━━━━━━━━━━━━━━━━\u001b[0m\u001b[37m\u001b[0m \u001b[1m0s\u001b[0m 2ms/step - accuracy: 0.9862 - loss: 0.0544\n",
            "Epoch 33/50\n",
            "\u001b[1m46/46\u001b[0m \u001b[32m━━━━━━━━━━━━━━━━━━━━\u001b[0m\u001b[37m\u001b[0m \u001b[1m0s\u001b[0m 2ms/step - accuracy: 0.9894 - loss: 0.0477\n",
            "Epoch 34/50\n",
            "\u001b[1m46/46\u001b[0m \u001b[32m━━━━━━━━━━━━━━━━━━━━\u001b[0m\u001b[37m\u001b[0m \u001b[1m0s\u001b[0m 1ms/step - accuracy: 0.9944 - loss: 0.0391\n",
            "Epoch 35/50\n",
            "\u001b[1m46/46\u001b[0m \u001b[32m━━━━━━━━━━━━━━━━━━━━\u001b[0m\u001b[37m\u001b[0m \u001b[1m0s\u001b[0m 2ms/step - accuracy: 0.9882 - loss: 0.0463\n",
            "Epoch 36/50\n",
            "\u001b[1m46/46\u001b[0m \u001b[32m━━━━━━━━━━━━━━━━━━━━\u001b[0m\u001b[37m\u001b[0m \u001b[1m0s\u001b[0m 1ms/step - accuracy: 0.9903 - loss: 0.0384\n",
            "Epoch 37/50\n",
            "\u001b[1m46/46\u001b[0m \u001b[32m━━━━━━━━━━━━━━━━━━━━\u001b[0m\u001b[37m\u001b[0m \u001b[1m0s\u001b[0m 4ms/step - accuracy: 0.9910 - loss: 0.0362\n",
            "Epoch 38/50\n",
            "\u001b[1m46/46\u001b[0m \u001b[32m━━━━━━━━━━━━━━━━━━━━\u001b[0m\u001b[37m\u001b[0m \u001b[1m0s\u001b[0m 7ms/step - accuracy: 0.9928 - loss: 0.0243\n",
            "Epoch 39/50\n",
            "\u001b[1m46/46\u001b[0m \u001b[32m━━━━━━━━━━━━━━━━━━━━\u001b[0m\u001b[37m\u001b[0m \u001b[1m0s\u001b[0m 1ms/step - accuracy: 0.9819 - loss: 0.0492\n",
            "Epoch 40/50\n",
            "\u001b[1m46/46\u001b[0m \u001b[32m━━━━━━━━━━━━━━━━━━━━\u001b[0m\u001b[37m\u001b[0m \u001b[1m0s\u001b[0m 2ms/step - accuracy: 0.9865 - loss: 0.0346\n",
            "Epoch 41/50\n",
            "\u001b[1m46/46\u001b[0m \u001b[32m━━━━━━━━━━━━━━━━━━━━\u001b[0m\u001b[37m\u001b[0m \u001b[1m0s\u001b[0m 1ms/step - accuracy: 0.9706 - loss: 0.0540\n",
            "Epoch 42/50\n",
            "\u001b[1m46/46\u001b[0m \u001b[32m━━━━━━━━━━━━━━━━━━━━\u001b[0m\u001b[37m\u001b[0m \u001b[1m0s\u001b[0m 2ms/step - accuracy: 0.9875 - loss: 0.0543\n",
            "Epoch 43/50\n",
            "\u001b[1m46/46\u001b[0m \u001b[32m━━━━━━━━━━━━━━━━━━━━\u001b[0m\u001b[37m\u001b[0m \u001b[1m0s\u001b[0m 1ms/step - accuracy: 0.9813 - loss: 0.0484\n",
            "Epoch 44/50\n",
            "\u001b[1m46/46\u001b[0m \u001b[32m━━━━━━━━━━━━━━━━━━━━\u001b[0m\u001b[37m\u001b[0m \u001b[1m0s\u001b[0m 1ms/step - accuracy: 0.9859 - loss: 0.0375\n",
            "Epoch 45/50\n",
            "\u001b[1m46/46\u001b[0m \u001b[32m━━━━━━━━━━━━━━━━━━━━\u001b[0m\u001b[37m\u001b[0m \u001b[1m0s\u001b[0m 1ms/step - accuracy: 0.9802 - loss: 0.0495\n",
            "Epoch 46/50\n",
            "\u001b[1m46/46\u001b[0m \u001b[32m━━━━━━━━━━━━━━━━━━━━\u001b[0m\u001b[37m\u001b[0m \u001b[1m0s\u001b[0m 1ms/step - accuracy: 0.9805 - loss: 0.0634\n",
            "Epoch 47/50\n",
            "\u001b[1m46/46\u001b[0m \u001b[32m━━━━━━━━━━━━━━━━━━━━\u001b[0m\u001b[37m\u001b[0m \u001b[1m0s\u001b[0m 1ms/step - accuracy: 0.9887 - loss: 0.0354\n",
            "Epoch 48/50\n",
            "\u001b[1m46/46\u001b[0m \u001b[32m━━━━━━━━━━━━━━━━━━━━\u001b[0m\u001b[37m\u001b[0m \u001b[1m0s\u001b[0m 1ms/step - accuracy: 0.9700 - loss: 0.0593\n",
            "Epoch 49/50\n",
            "\u001b[1m46/46\u001b[0m \u001b[32m━━━━━━━━━━━━━━━━━━━━\u001b[0m\u001b[37m\u001b[0m \u001b[1m0s\u001b[0m 2ms/step - accuracy: 0.9965 - loss: 0.0269\n",
            "Epoch 50/50\n",
            "\u001b[1m46/46\u001b[0m \u001b[32m━━━━━━━━━━━━━━━━━━━━\u001b[0m\u001b[37m\u001b[0m \u001b[1m0s\u001b[0m 2ms/step - accuracy: 0.9735 - loss: 0.0588\n",
            "\u001b[1m4/4\u001b[0m \u001b[32m━━━━━━━━━━━━━━━━━━━━\u001b[0m\u001b[37m\u001b[0m \u001b[1m0s\u001b[0m 13ms/step\n",
            "\n",
            "Neural Network\n",
            "Accuracy: 0.9824561403508771\n",
            "              precision    recall  f1-score   support\n",
            "\n",
            "           0       0.97      1.00      0.99        71\n",
            "           1       1.00      0.95      0.98        43\n",
            "\n",
            "    accuracy                           0.98       114\n",
            "   macro avg       0.99      0.98      0.98       114\n",
            "weighted avg       0.98      0.98      0.98       114\n",
            "\n"
          ]
        },
        {
          "output_type": "display_data",
          "data": {
            "text/plain": [
              "<Figure size 600x400 with 2 Axes>"
            ],
            "image/png": "[encoded data removed]"
          },
          "metadata": {}
        },
        {
          "output_type": "stream",
          "name": "stdout",
          "text": [
            "Neural Network misclassifications indices: [20 77]\n",
            "Neural Network misclassifications: 2\n"
          ]
        }
      ]
    },
    {
      "cell_type": "markdown",
      "source": [
        "## Referencias bibliograficas\n",
        "* Gonzalez, A., & Figueiredo, M. A. T. (2021). K-Means clustering: A survey and a new optimization method. Artificial Intelligence Review, 54(4), 2589-262\n",
        "\n",
        "* Jolliffe, I. T., & Cadima, J. (2016). Principal component analysis: A review and recent developments. Philosophical Transactions of the Royal Society A: Mathematical, Physical and Engineering Sciences, 374(2065), 20150202.\n",
        "\n",
        "* Karypis, G. (2019). Clustering. In Encyclopedia of Machine Learning and Data Mining (2nd ed., pp. 207-215)"
      ],
      "metadata": {
        "id": "TjhxaX54O1Jv"
      }
    },
    {
      "cell_type": "code",
      "source": [],
      "metadata": {
        "id": "o77fgJdtOyjN"
      },
      "execution_count": null,
      "outputs": []
    },
    {
      "cell_type": "code",
      "source": [],
      "metadata": {
        "id": "x2a-2uqWOx76"
      },
      "execution_count": null,
      "outputs": []
    }
  ]
}